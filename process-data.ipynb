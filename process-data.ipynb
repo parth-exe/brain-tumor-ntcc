{
 "cells": [
  {
   "cell_type": "code",
   "execution_count": 15,
   "metadata": {},
   "outputs": [],
   "source": [
    "import numpy as np\n",
    "import os\n",
    "import zipfile\n",
    "import matplotlib.pyplot as plt\n",
    "import pickle\n",
    "import h5py\n",
    "import cv2"
   ]
  },
  {
   "attachments": {},
   "cell_type": "markdown",
   "metadata": {},
   "source": [
    "## **Getting file path and unzipping the files**\n"
   ]
  },
  {
   "cell_type": "code",
   "execution_count": 16,
   "metadata": {},
   "outputs": [],
   "source": [
    "zippath = os.getcwd()\n",
    "dataset_path = os.path.join(zippath, 'dataset')\n",
    "if not os.path.exists(os.path.join(dataset_path, 'images')):\n",
    "    os.mkdir(os.path.join(dataset_path, 'images'))\n",
    "for file in os.listdir(dataset_path):\n",
    "    if file.endswith('.zip'):\n",
    "        with zipfile.ZipFile(os.path.join(dataset_path, file)) as zf:\n",
    "            zf.extractall(os.path.join(dataset_path, 'images'))            "
   ]
  },
  {
   "attachments": {},
   "cell_type": "markdown",
   "metadata": {},
   "source": [
    "## **Data prep**\n"
   ]
  },
  {
   "cell_type": "code",
   "execution_count": 17,
   "metadata": {},
   "outputs": [
    {
     "name": "stdout",
     "output_type": "stream",
     "text": [
      "c:\\Users\\admin\\OneDrive - Amity University\\Desktop\\Programming\\Python\\brain-tumor-analysis\\dataset\\images\n"
     ]
    }
   ],
   "source": [
    "labels = []\n",
    "border = []\n",
    "target_path = os.path.join(dataset_path, 'images')\n",
    "print(target_path)"
   ]
  },
  {
   "cell_type": "code",
   "execution_count": 18,
   "metadata": {},
   "outputs": [
    {
     "data": {
      "image/png": "[encoded data removed]",
      "text/plain": [
       "<Figure size 640x480 with 1 Axes>"
      ]
     },
     "metadata": {},
     "output_type": "display_data"
    }
   ],
   "source": [
    "if not os.path.exists(os.path.join(dataset_path, 'converted')):\n",
    "    os.mkdir(os.path.join(dataset_path, 'converted'))\n",
    "for filename in os.listdir(os.path.join(dataset_path, 'images')):\n",
    "    with h5py.File(os.path.join(dataset_path, 'images', filename), 'r') as f:\n",
    "        img = f['cjdata']['image']\n",
    "        label = f['cjdata']['label'][0][0]\n",
    "        labels.append(int(label))\n",
    "        \n",
    "        img = np.array(img, dtype=np.float32)\n",
    "        plt.axis('off')\n",
    "        plt.imsave(os.path.join(dataset_path, 'converted' , filename.split('.')[0]+\".jpg\"), img, cmap='gray')\n"
   ]
  },
  {
   "cell_type": "code",
   "execution_count": 19,
   "metadata": {},
   "outputs": [
    {
     "data": {
      "text/plain": [
       "(3064,)"
      ]
     },
     "execution_count": 19,
     "metadata": {},
     "output_type": "execute_result"
    }
   ],
   "source": [
    "'''\n",
    "Converting lists to numpy arrays\n",
    "'''\n",
    "\n",
    "numpy_labels = np.array(labels, dtype=np.int64)\n",
    "numpy_labels.shape"
   ]
  },
  {
   "cell_type": "code",
   "execution_count": 20,
   "metadata": {},
   "outputs": [],
   "source": [
    "\"\"\"\n",
    "    Storing labels gathered into a pickle file for future\n",
    "     use in the model when training the model.\n",
    " \"\"\"\n",
    "if not os.path.exists('picklefiles'):\n",
    "    os.mkdir('picklefiles')\n",
    "pickle_outf = open('picklefiles/labels.pickle', \"wb\")\n",
    "pickle.dump(numpy_labels, pickle_outf)\n",
    "pickle_outf.close()"
   ]
  },
  {
   "cell_type": "code",
   "execution_count": 21,
   "metadata": {},
   "outputs": [],
   "source": [
    "training_array = []\n",
    "img = None\n",
    "label = None"
   ]
  },
  {
   "cell_type": "code",
   "execution_count": 28,
   "metadata": {},
   "outputs": [
    {
     "name": "stdout",
     "output_type": "stream",
     "text": [
      "Label: [1 1 1 ... 3 3 3]\n",
      "shape: (512, 512, 3)\n",
      "i = 3064\n"
     ]
    }
   ],
   "source": [
    "cv_target = os.path.join(dataset_path, 'converted')\n",
    "i = 0\n",
    "for filename in os.listdir(os.path.join(dataset_path, 'converted')):\n",
    "\n",
    "    img = cv2.imread(os.path.join(cv_target, filename), cv2.IMREAD_GRAYSCALE)\n",
    "    img = cv2.cvtColor(img, cv2.COLOR_GRAY2RGB)\n",
    "    img = cv2.resize(img, (512,512))\n",
    "    label = numpy_labels\n",
    "    training_array.append([img, label])\n",
    "    i += 1\n",
    "print(f'Label: {label}')\n",
    "print(f'shape: {img.shape}')\n",
    "print(f'number of images = {i}')\n",
    "if not os.path.exists('picklefiles'):\n",
    "    os.mkdir('picklefiles')\n",
    "training_pickle = open('picklefiles/training.pickle', \"wb\")\n",
    "pickle.dump(training_array, training_pickle)\n",
    "training_pickle.close()"
   ]
  }
 ],
 "metadata": {
  "kernelspec": {
   "display_name": "Python 3",
   "language": "python",
   "name": "python3"
  },
  "language_info": {
   "codemirror_mode": {
    "name": "ipython",
    "version": 3
   },
   "file_extension": ".py",
   "mimetype": "text/x-python",
   "name": "python",
   "nbconvert_exporter": "python",
   "pygments_lexer": "ipython3",
   "version": "3.11.2"
  },
  "orig_nbformat": 4
 },
 "nbformat": 4,
 "nbformat_minor": 2
}
